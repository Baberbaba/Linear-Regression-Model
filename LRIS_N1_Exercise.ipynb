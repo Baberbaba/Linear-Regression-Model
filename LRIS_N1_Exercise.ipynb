{
  "cells": [
    {
      "cell_type": "markdown",
      "metadata": {
        "id": "view-in-github",
        "colab_type": "text"
      },
      "source": [
        "<a href=\"https://colab.research.google.com/github/Baberbaba/Linear-Regression-Model/blob/main/LRIS_N1_Exercise.ipynb\" target=\"_parent\"><img src=\"https://colab.research.google.com/assets/colab-badge.svg\" alt=\"Open In Colab\"/></a>"
      ]
    },
    {
      "cell_type": "markdown",
      "metadata": {
        "id": "CD9h3hCtsC-S"
      },
      "source": [
        "# Part 1 - Exploratory Data Analysis\n",
        "In this section, we will:\n",
        "- Import necessary packages for executing the code\n",
        "- Load the data\n",
        "- Summarize the features in the data using descriptive statistics\n",
        "- Study the features in the data set and their interrelationships using various visualizations"
      ]
    },
    {
      "cell_type": "code",
      "execution_count": 1,
      "metadata": {
        "id": "dHt2IgCtFhJW"
      },
      "outputs": [],
      "source": [
        "# Import 'numpy' and 'pandas' for working with numbers and data frames\n",
        "import numpy as np\n",
        "import pandas as pd\n",
        "\n",
        "# Import 'pyplot' from 'matplotlib' and 'seaborn' for visualizations\n",
        "from matplotlib import pyplot as plt\n",
        "import seaborn as sns"
      ]
    },
    {
      "cell_type": "code",
      "execution_count": 2,
      "metadata": {
        "colab": {
          "base_uri": "https://localhost:8080/",
          "height": 237
        },
        "id": "EJ7rsMO3FhJX",
        "outputId": "3d63cebc-602e-44f8-d207-5a39f87016d1"
      },
      "outputs": [
        {
          "output_type": "execute_result",
          "data": {
            "text/plain": [
              "          ADVT  INCOME  SALES\n",
              "District                     \n",
              "1          9.5    39.0  145.1\n",
              "2         10.1    50.5  128.3\n",
              "3          9.4    55.6  121.3\n",
              "4         11.6    45.0  134.4\n",
              "5         10.3    49.6  106.5"
            ],
            "text/html": [
              "\n",
              "  <div id=\"df-b2daed05-3049-4c45-993f-2aaf028c31be\" class=\"colab-df-container\">\n",
              "    <div>\n",
              "<style scoped>\n",
              "    .dataframe tbody tr th:only-of-type {\n",
              "        vertical-align: middle;\n",
              "    }\n",
              "\n",
              "    .dataframe tbody tr th {\n",
              "        vertical-align: top;\n",
              "    }\n",
              "\n",
              "    .dataframe thead th {\n",
              "        text-align: right;\n",
              "    }\n",
              "</style>\n",
              "<table border=\"1\" class=\"dataframe\">\n",
              "  <thead>\n",
              "    <tr style=\"text-align: right;\">\n",
              "      <th></th>\n",
              "      <th>ADVT</th>\n",
              "      <th>INCOME</th>\n",
              "      <th>SALES</th>\n",
              "    </tr>\n",
              "    <tr>\n",
              "      <th>District</th>\n",
              "      <th></th>\n",
              "      <th></th>\n",
              "      <th></th>\n",
              "    </tr>\n",
              "  </thead>\n",
              "  <tbody>\n",
              "    <tr>\n",
              "      <th>1</th>\n",
              "      <td>9.5</td>\n",
              "      <td>39.0</td>\n",
              "      <td>145.1</td>\n",
              "    </tr>\n",
              "    <tr>\n",
              "      <th>2</th>\n",
              "      <td>10.1</td>\n",
              "      <td>50.5</td>\n",
              "      <td>128.3</td>\n",
              "    </tr>\n",
              "    <tr>\n",
              "      <th>3</th>\n",
              "      <td>9.4</td>\n",
              "      <td>55.6</td>\n",
              "      <td>121.3</td>\n",
              "    </tr>\n",
              "    <tr>\n",
              "      <th>4</th>\n",
              "      <td>11.6</td>\n",
              "      <td>45.0</td>\n",
              "      <td>134.4</td>\n",
              "    </tr>\n",
              "    <tr>\n",
              "      <th>5</th>\n",
              "      <td>10.3</td>\n",
              "      <td>49.6</td>\n",
              "      <td>106.5</td>\n",
              "    </tr>\n",
              "  </tbody>\n",
              "</table>\n",
              "</div>\n",
              "    <div class=\"colab-df-buttons\">\n",
              "\n",
              "  <div class=\"colab-df-container\">\n",
              "    <button class=\"colab-df-convert\" onclick=\"convertToInteractive('df-b2daed05-3049-4c45-993f-2aaf028c31be')\"\n",
              "            title=\"Convert this dataframe to an interactive table.\"\n",
              "            style=\"display:none;\">\n",
              "\n",
              "  <svg xmlns=\"http://www.w3.org/2000/svg\" height=\"24px\" viewBox=\"0 -960 960 960\">\n",
              "    <path d=\"M120-120v-720h720v720H120Zm60-500h600v-160H180v160Zm220 220h160v-160H400v160Zm0 220h160v-160H400v160ZM180-400h160v-160H180v160Zm440 0h160v-160H620v160ZM180-180h160v-160H180v160Zm440 0h160v-160H620v160Z\"/>\n",
              "  </svg>\n",
              "    </button>\n",
              "\n",
              "  <style>\n",
              "    .colab-df-container {\n",
              "      display:flex;\n",
              "      gap: 12px;\n",
              "    }\n",
              "\n",
              "    .colab-df-convert {\n",
              "      background-color: #E8F0FE;\n",
              "      border: none;\n",
              "      border-radius: 50%;\n",
              "      cursor: pointer;\n",
              "      display: none;\n",
              "      fill: #1967D2;\n",
              "      height: 32px;\n",
              "      padding: 0 0 0 0;\n",
              "      width: 32px;\n",
              "    }\n",
              "\n",
              "    .colab-df-convert:hover {\n",
              "      background-color: #E2EBFA;\n",
              "      box-shadow: 0px 1px 2px rgba(60, 64, 67, 0.3), 0px 1px 3px 1px rgba(60, 64, 67, 0.15);\n",
              "      fill: #174EA6;\n",
              "    }\n",
              "\n",
              "    .colab-df-buttons div {\n",
              "      margin-bottom: 4px;\n",
              "    }\n",
              "\n",
              "    [theme=dark] .colab-df-convert {\n",
              "      background-color: #3B4455;\n",
              "      fill: #D2E3FC;\n",
              "    }\n",
              "\n",
              "    [theme=dark] .colab-df-convert:hover {\n",
              "      background-color: #434B5C;\n",
              "      box-shadow: 0px 1px 3px 1px rgba(0, 0, 0, 0.15);\n",
              "      filter: drop-shadow(0px 1px 2px rgba(0, 0, 0, 0.3));\n",
              "      fill: #FFFFFF;\n",
              "    }\n",
              "  </style>\n",
              "\n",
              "    <script>\n",
              "      const buttonEl =\n",
              "        document.querySelector('#df-b2daed05-3049-4c45-993f-2aaf028c31be button.colab-df-convert');\n",
              "      buttonEl.style.display =\n",
              "        google.colab.kernel.accessAllowed ? 'block' : 'none';\n",
              "\n",
              "      async function convertToInteractive(key) {\n",
              "        const element = document.querySelector('#df-b2daed05-3049-4c45-993f-2aaf028c31be');\n",
              "        const dataTable =\n",
              "          await google.colab.kernel.invokeFunction('convertToInteractive',\n",
              "                                                    [key], {});\n",
              "        if (!dataTable) return;\n",
              "\n",
              "        const docLinkHtml = 'Like what you see? Visit the ' +\n",
              "          '<a target=\"_blank\" href=https://colab.research.google.com/notebooks/data_table.ipynb>data table notebook</a>'\n",
              "          + ' to learn more about interactive tables.';\n",
              "        element.innerHTML = '';\n",
              "        dataTable['output_type'] = 'display_data';\n",
              "        await google.colab.output.renderOutput(dataTable, element);\n",
              "        const docLink = document.createElement('div');\n",
              "        docLink.innerHTML = docLinkHtml;\n",
              "        element.appendChild(docLink);\n",
              "      }\n",
              "    </script>\n",
              "  </div>\n",
              "\n",
              "\n",
              "<div id=\"df-99e1abb4-25cb-46bc-a4fa-a2d504bdc8db\">\n",
              "  <button class=\"colab-df-quickchart\" onclick=\"quickchart('df-99e1abb4-25cb-46bc-a4fa-a2d504bdc8db')\"\n",
              "            title=\"Suggest charts\"\n",
              "            style=\"display:none;\">\n",
              "\n",
              "<svg xmlns=\"http://www.w3.org/2000/svg\" height=\"24px\"viewBox=\"0 0 24 24\"\n",
              "     width=\"24px\">\n",
              "    <g>\n",
              "        <path d=\"M19 3H5c-1.1 0-2 .9-2 2v14c0 1.1.9 2 2 2h14c1.1 0 2-.9 2-2V5c0-1.1-.9-2-2-2zM9 17H7v-7h2v7zm4 0h-2V7h2v10zm4 0h-2v-4h2v4z\"/>\n",
              "    </g>\n",
              "</svg>\n",
              "  </button>\n",
              "\n",
              "<style>\n",
              "  .colab-df-quickchart {\n",
              "      --bg-color: #E8F0FE;\n",
              "      --fill-color: #1967D2;\n",
              "      --hover-bg-color: #E2EBFA;\n",
              "      --hover-fill-color: #174EA6;\n",
              "      --disabled-fill-color: #AAA;\n",
              "      --disabled-bg-color: #DDD;\n",
              "  }\n",
              "\n",
              "  [theme=dark] .colab-df-quickchart {\n",
              "      --bg-color: #3B4455;\n",
              "      --fill-color: #D2E3FC;\n",
              "      --hover-bg-color: #434B5C;\n",
              "      --hover-fill-color: #FFFFFF;\n",
              "      --disabled-bg-color: #3B4455;\n",
              "      --disabled-fill-color: #666;\n",
              "  }\n",
              "\n",
              "  .colab-df-quickchart {\n",
              "    background-color: var(--bg-color);\n",
              "    border: none;\n",
              "    border-radius: 50%;\n",
              "    cursor: pointer;\n",
              "    display: none;\n",
              "    fill: var(--fill-color);\n",
              "    height: 32px;\n",
              "    padding: 0;\n",
              "    width: 32px;\n",
              "  }\n",
              "\n",
              "  .colab-df-quickchart:hover {\n",
              "    background-color: var(--hover-bg-color);\n",
              "    box-shadow: 0 1px 2px rgba(60, 64, 67, 0.3), 0 1px 3px 1px rgba(60, 64, 67, 0.15);\n",
              "    fill: var(--button-hover-fill-color);\n",
              "  }\n",
              "\n",
              "  .colab-df-quickchart-complete:disabled,\n",
              "  .colab-df-quickchart-complete:disabled:hover {\n",
              "    background-color: var(--disabled-bg-color);\n",
              "    fill: var(--disabled-fill-color);\n",
              "    box-shadow: none;\n",
              "  }\n",
              "\n",
              "  .colab-df-spinner {\n",
              "    border: 2px solid var(--fill-color);\n",
              "    border-color: transparent;\n",
              "    border-bottom-color: var(--fill-color);\n",
              "    animation:\n",
              "      spin 1s steps(1) infinite;\n",
              "  }\n",
              "\n",
              "  @keyframes spin {\n",
              "    0% {\n",
              "      border-color: transparent;\n",
              "      border-bottom-color: var(--fill-color);\n",
              "      border-left-color: var(--fill-color);\n",
              "    }\n",
              "    20% {\n",
              "      border-color: transparent;\n",
              "      border-left-color: var(--fill-color);\n",
              "      border-top-color: var(--fill-color);\n",
              "    }\n",
              "    30% {\n",
              "      border-color: transparent;\n",
              "      border-left-color: var(--fill-color);\n",
              "      border-top-color: var(--fill-color);\n",
              "      border-right-color: var(--fill-color);\n",
              "    }\n",
              "    40% {\n",
              "      border-color: transparent;\n",
              "      border-right-color: var(--fill-color);\n",
              "      border-top-color: var(--fill-color);\n",
              "    }\n",
              "    60% {\n",
              "      border-color: transparent;\n",
              "      border-right-color: var(--fill-color);\n",
              "    }\n",
              "    80% {\n",
              "      border-color: transparent;\n",
              "      border-right-color: var(--fill-color);\n",
              "      border-bottom-color: var(--fill-color);\n",
              "    }\n",
              "    90% {\n",
              "      border-color: transparent;\n",
              "      border-bottom-color: var(--fill-color);\n",
              "    }\n",
              "  }\n",
              "</style>\n",
              "\n",
              "  <script>\n",
              "    async function quickchart(key) {\n",
              "      const quickchartButtonEl =\n",
              "        document.querySelector('#' + key + ' button');\n",
              "      quickchartButtonEl.disabled = true;  // To prevent multiple clicks.\n",
              "      quickchartButtonEl.classList.add('colab-df-spinner');\n",
              "      try {\n",
              "        const charts = await google.colab.kernel.invokeFunction(\n",
              "            'suggestCharts', [key], {});\n",
              "      } catch (error) {\n",
              "        console.error('Error during call to suggestCharts:', error);\n",
              "      }\n",
              "      quickchartButtonEl.classList.remove('colab-df-spinner');\n",
              "      quickchartButtonEl.classList.add('colab-df-quickchart-complete');\n",
              "    }\n",
              "    (() => {\n",
              "      let quickchartButtonEl =\n",
              "        document.querySelector('#df-99e1abb4-25cb-46bc-a4fa-a2d504bdc8db button');\n",
              "      quickchartButtonEl.style.display =\n",
              "        google.colab.kernel.accessAllowed ? 'block' : 'none';\n",
              "    })();\n",
              "  </script>\n",
              "</div>\n",
              "\n",
              "    </div>\n",
              "  </div>\n"
            ],
            "application/vnd.google.colaboratory.intrinsic+json": {
              "type": "dataframe",
              "variable_name": "df",
              "summary": "{\n  \"name\": \"df\",\n  \"rows\": 25,\n  \"fields\": [\n    {\n      \"column\": \"District\",\n      \"properties\": {\n        \"dtype\": \"number\",\n        \"std\": 7,\n        \"min\": 1,\n        \"max\": 25,\n        \"num_unique_values\": 25,\n        \"samples\": [\n          9,\n          17,\n          1\n        ],\n        \"semantic_type\": \"\",\n        \"description\": \"\"\n      }\n    },\n    {\n      \"column\": \"ADVT\",\n      \"properties\": {\n        \"dtype\": \"number\",\n        \"std\": 1.0805399884625586,\n        \"min\": 8.4,\n        \"max\": 11.9,\n        \"num_unique_values\": 19,\n        \"samples\": [\n          9.5,\n          11.2,\n          9.8\n        ],\n        \"semantic_type\": \"\",\n        \"description\": \"\"\n      }\n    },\n    {\n      \"column\": \"INCOME\",\n      \"properties\": {\n        \"dtype\": \"number\",\n        \"std\": 9.74516974369012,\n        \"min\": 33.0,\n        \"max\": 68.1,\n        \"num_unique_values\": 25,\n        \"samples\": [\n          62.4,\n          50.2,\n          39.0\n        ],\n        \"semantic_type\": \"\",\n        \"description\": \"\"\n      }\n    },\n    {\n      \"column\": \"SALES\",\n      \"properties\": {\n        \"dtype\": \"number\",\n        \"std\": 16.36885966299017,\n        \"min\": 88.5,\n        \"max\": 159.3,\n        \"num_unique_values\": 25,\n        \"samples\": [\n          151.0,\n          137.0,\n          145.1\n        ],\n        \"semantic_type\": \"\",\n        \"description\": \"\"\n      }\n    }\n  ]\n}"
            }
          },
          "metadata": {},
          "execution_count": 2
        }
      ],
      "source": [
        "# Load the data and take a look at it\n",
        "df = pd.read_csv('/content/kool_karma_data.csv', index_col = 'District')\n",
        "df.head()"
      ]
    },
    {
      "cell_type": "markdown",
      "metadata": {
        "id": "shj3Ie8MFhJX"
      },
      "source": [
        "The features *ADVT*, *INCOME* and *SALES* are shown in units of thousands of dollars. Note that the target variable here is *SALES* whereas the *ADVT* and *INCOME* variables are treated as predictors."
      ]
    },
    {
      "cell_type": "code",
      "execution_count": 3,
      "metadata": {
        "colab": {
          "base_uri": "https://localhost:8080/"
        },
        "id": "1PnIPWjcFhJY",
        "outputId": "4322e0f3-81a2-4b17-f455-f39abfbaeb90"
      },
      "outputs": [
        {
          "output_type": "stream",
          "name": "stdout",
          "text": [
            "<class 'pandas.core.frame.DataFrame'>\n",
            "Index: 25 entries, 1 to 25\n",
            "Data columns (total 3 columns):\n",
            " #   Column  Non-Null Count  Dtype  \n",
            "---  ------  --------------  -----  \n",
            " 0   ADVT    25 non-null     float64\n",
            " 1   INCOME  25 non-null     float64\n",
            " 2   SALES   25 non-null     float64\n",
            "dtypes: float64(3)\n",
            "memory usage: 800.0 bytes\n"
          ]
        }
      ],
      "source": [
        "# Look at the specifics of the data frame\n",
        "df.info()"
      ]
    },
    {
      "cell_type": "code",
      "execution_count": 4,
      "metadata": {
        "colab": {
          "base_uri": "https://localhost:8080/",
          "height": 143
        },
        "id": "VpHp2FJPpzk6",
        "outputId": "8a7e66c6-06df-40c5-95b1-c5a0ad670ab3"
      },
      "outputs": [
        {
          "output_type": "execute_result",
          "data": {
            "text/plain": [
              "        count     mean       std   min    25%    50%    75%    max\n",
              "ADVT     25.0   10.156   1.08054   8.4    9.4   10.1   11.2   11.9\n",
              "INCOME   25.0   49.400   9.74517  33.0   42.4   47.5   55.6   68.1\n",
              "SALES    25.0  128.296  16.36886  88.5  121.3  128.3  137.0  159.3"
            ],
            "text/html": [
              "\n",
              "  <div id=\"df-a5292500-060d-41b5-87ed-4d7560305912\" class=\"colab-df-container\">\n",
              "    <div>\n",
              "<style scoped>\n",
              "    .dataframe tbody tr th:only-of-type {\n",
              "        vertical-align: middle;\n",
              "    }\n",
              "\n",
              "    .dataframe tbody tr th {\n",
              "        vertical-align: top;\n",
              "    }\n",
              "\n",
              "    .dataframe thead th {\n",
              "        text-align: right;\n",
              "    }\n",
              "</style>\n",
              "<table border=\"1\" class=\"dataframe\">\n",
              "  <thead>\n",
              "    <tr style=\"text-align: right;\">\n",
              "      <th></th>\n",
              "      <th>count</th>\n",
              "      <th>mean</th>\n",
              "      <th>std</th>\n",
              "      <th>min</th>\n",
              "      <th>25%</th>\n",
              "      <th>50%</th>\n",
              "      <th>75%</th>\n",
              "      <th>max</th>\n",
              "    </tr>\n",
              "  </thead>\n",
              "  <tbody>\n",
              "    <tr>\n",
              "      <th>ADVT</th>\n",
              "      <td>25.0</td>\n",
              "      <td>10.156</td>\n",
              "      <td>1.08054</td>\n",
              "      <td>8.4</td>\n",
              "      <td>9.4</td>\n",
              "      <td>10.1</td>\n",
              "      <td>11.2</td>\n",
              "      <td>11.9</td>\n",
              "    </tr>\n",
              "    <tr>\n",
              "      <th>INCOME</th>\n",
              "      <td>25.0</td>\n",
              "      <td>49.400</td>\n",
              "      <td>9.74517</td>\n",
              "      <td>33.0</td>\n",
              "      <td>42.4</td>\n",
              "      <td>47.5</td>\n",
              "      <td>55.6</td>\n",
              "      <td>68.1</td>\n",
              "    </tr>\n",
              "    <tr>\n",
              "      <th>SALES</th>\n",
              "      <td>25.0</td>\n",
              "      <td>128.296</td>\n",
              "      <td>16.36886</td>\n",
              "      <td>88.5</td>\n",
              "      <td>121.3</td>\n",
              "      <td>128.3</td>\n",
              "      <td>137.0</td>\n",
              "      <td>159.3</td>\n",
              "    </tr>\n",
              "  </tbody>\n",
              "</table>\n",
              "</div>\n",
              "    <div class=\"colab-df-buttons\">\n",
              "\n",
              "  <div class=\"colab-df-container\">\n",
              "    <button class=\"colab-df-convert\" onclick=\"convertToInteractive('df-a5292500-060d-41b5-87ed-4d7560305912')\"\n",
              "            title=\"Convert this dataframe to an interactive table.\"\n",
              "            style=\"display:none;\">\n",
              "\n",
              "  <svg xmlns=\"http://www.w3.org/2000/svg\" height=\"24px\" viewBox=\"0 -960 960 960\">\n",
              "    <path d=\"M120-120v-720h720v720H120Zm60-500h600v-160H180v160Zm220 220h160v-160H400v160Zm0 220h160v-160H400v160ZM180-400h160v-160H180v160Zm440 0h160v-160H620v160ZM180-180h160v-160H180v160Zm440 0h160v-160H620v160Z\"/>\n",
              "  </svg>\n",
              "    </button>\n",
              "\n",
              "  <style>\n",
              "    .colab-df-container {\n",
              "      display:flex;\n",
              "      gap: 12px;\n",
              "    }\n",
              "\n",
              "    .colab-df-convert {\n",
              "      background-color: #E8F0FE;\n",
              "      border: none;\n",
              "      border-radius: 50%;\n",
              "      cursor: pointer;\n",
              "      display: none;\n",
              "      fill: #1967D2;\n",
              "      height: 32px;\n",
              "      padding: 0 0 0 0;\n",
              "      width: 32px;\n",
              "    }\n",
              "\n",
              "    .colab-df-convert:hover {\n",
              "      background-color: #E2EBFA;\n",
              "      box-shadow: 0px 1px 2px rgba(60, 64, 67, 0.3), 0px 1px 3px 1px rgba(60, 64, 67, 0.15);\n",
              "      fill: #174EA6;\n",
              "    }\n",
              "\n",
              "    .colab-df-buttons div {\n",
              "      margin-bottom: 4px;\n",
              "    }\n",
              "\n",
              "    [theme=dark] .colab-df-convert {\n",
              "      background-color: #3B4455;\n",
              "      fill: #D2E3FC;\n",
              "    }\n",
              "\n",
              "    [theme=dark] .colab-df-convert:hover {\n",
              "      background-color: #434B5C;\n",
              "      box-shadow: 0px 1px 3px 1px rgba(0, 0, 0, 0.15);\n",
              "      filter: drop-shadow(0px 1px 2px rgba(0, 0, 0, 0.3));\n",
              "      fill: #FFFFFF;\n",
              "    }\n",
              "  </style>\n",
              "\n",
              "    <script>\n",
              "      const buttonEl =\n",
              "        document.querySelector('#df-a5292500-060d-41b5-87ed-4d7560305912 button.colab-df-convert');\n",
              "      buttonEl.style.display =\n",
              "        google.colab.kernel.accessAllowed ? 'block' : 'none';\n",
              "\n",
              "      async function convertToInteractive(key) {\n",
              "        const element = document.querySelector('#df-a5292500-060d-41b5-87ed-4d7560305912');\n",
              "        const dataTable =\n",
              "          await google.colab.kernel.invokeFunction('convertToInteractive',\n",
              "                                                    [key], {});\n",
              "        if (!dataTable) return;\n",
              "\n",
              "        const docLinkHtml = 'Like what you see? Visit the ' +\n",
              "          '<a target=\"_blank\" href=https://colab.research.google.com/notebooks/data_table.ipynb>data table notebook</a>'\n",
              "          + ' to learn more about interactive tables.';\n",
              "        element.innerHTML = '';\n",
              "        dataTable['output_type'] = 'display_data';\n",
              "        await google.colab.output.renderOutput(dataTable, element);\n",
              "        const docLink = document.createElement('div');\n",
              "        docLink.innerHTML = docLinkHtml;\n",
              "        element.appendChild(docLink);\n",
              "      }\n",
              "    </script>\n",
              "  </div>\n",
              "\n",
              "\n",
              "<div id=\"df-8cdecc99-76f9-49fc-8c1c-d42e70b4d922\">\n",
              "  <button class=\"colab-df-quickchart\" onclick=\"quickchart('df-8cdecc99-76f9-49fc-8c1c-d42e70b4d922')\"\n",
              "            title=\"Suggest charts\"\n",
              "            style=\"display:none;\">\n",
              "\n",
              "<svg xmlns=\"http://www.w3.org/2000/svg\" height=\"24px\"viewBox=\"0 0 24 24\"\n",
              "     width=\"24px\">\n",
              "    <g>\n",
              "        <path d=\"M19 3H5c-1.1 0-2 .9-2 2v14c0 1.1.9 2 2 2h14c1.1 0 2-.9 2-2V5c0-1.1-.9-2-2-2zM9 17H7v-7h2v7zm4 0h-2V7h2v10zm4 0h-2v-4h2v4z\"/>\n",
              "    </g>\n",
              "</svg>\n",
              "  </button>\n",
              "\n",
              "<style>\n",
              "  .colab-df-quickchart {\n",
              "      --bg-color: #E8F0FE;\n",
              "      --fill-color: #1967D2;\n",
              "      --hover-bg-color: #E2EBFA;\n",
              "      --hover-fill-color: #174EA6;\n",
              "      --disabled-fill-color: #AAA;\n",
              "      --disabled-bg-color: #DDD;\n",
              "  }\n",
              "\n",
              "  [theme=dark] .colab-df-quickchart {\n",
              "      --bg-color: #3B4455;\n",
              "      --fill-color: #D2E3FC;\n",
              "      --hover-bg-color: #434B5C;\n",
              "      --hover-fill-color: #FFFFFF;\n",
              "      --disabled-bg-color: #3B4455;\n",
              "      --disabled-fill-color: #666;\n",
              "  }\n",
              "\n",
              "  .colab-df-quickchart {\n",
              "    background-color: var(--bg-color);\n",
              "    border: none;\n",
              "    border-radius: 50%;\n",
              "    cursor: pointer;\n",
              "    display: none;\n",
              "    fill: var(--fill-color);\n",
              "    height: 32px;\n",
              "    padding: 0;\n",
              "    width: 32px;\n",
              "  }\n",
              "\n",
              "  .colab-df-quickchart:hover {\n",
              "    background-color: var(--hover-bg-color);\n",
              "    box-shadow: 0 1px 2px rgba(60, 64, 67, 0.3), 0 1px 3px 1px rgba(60, 64, 67, 0.15);\n",
              "    fill: var(--button-hover-fill-color);\n",
              "  }\n",
              "\n",
              "  .colab-df-quickchart-complete:disabled,\n",
              "  .colab-df-quickchart-complete:disabled:hover {\n",
              "    background-color: var(--disabled-bg-color);\n",
              "    fill: var(--disabled-fill-color);\n",
              "    box-shadow: none;\n",
              "  }\n",
              "\n",
              "  .colab-df-spinner {\n",
              "    border: 2px solid var(--fill-color);\n",
              "    border-color: transparent;\n",
              "    border-bottom-color: var(--fill-color);\n",
              "    animation:\n",
              "      spin 1s steps(1) infinite;\n",
              "  }\n",
              "\n",
              "  @keyframes spin {\n",
              "    0% {\n",
              "      border-color: transparent;\n",
              "      border-bottom-color: var(--fill-color);\n",
              "      border-left-color: var(--fill-color);\n",
              "    }\n",
              "    20% {\n",
              "      border-color: transparent;\n",
              "      border-left-color: var(--fill-color);\n",
              "      border-top-color: var(--fill-color);\n",
              "    }\n",
              "    30% {\n",
              "      border-color: transparent;\n",
              "      border-left-color: var(--fill-color);\n",
              "      border-top-color: var(--fill-color);\n",
              "      border-right-color: var(--fill-color);\n",
              "    }\n",
              "    40% {\n",
              "      border-color: transparent;\n",
              "      border-right-color: var(--fill-color);\n",
              "      border-top-color: var(--fill-color);\n",
              "    }\n",
              "    60% {\n",
              "      border-color: transparent;\n",
              "      border-right-color: var(--fill-color);\n",
              "    }\n",
              "    80% {\n",
              "      border-color: transparent;\n",
              "      border-right-color: var(--fill-color);\n",
              "      border-bottom-color: var(--fill-color);\n",
              "    }\n",
              "    90% {\n",
              "      border-color: transparent;\n",
              "      border-bottom-color: var(--fill-color);\n",
              "    }\n",
              "  }\n",
              "</style>\n",
              "\n",
              "  <script>\n",
              "    async function quickchart(key) {\n",
              "      const quickchartButtonEl =\n",
              "        document.querySelector('#' + key + ' button');\n",
              "      quickchartButtonEl.disabled = true;  // To prevent multiple clicks.\n",
              "      quickchartButtonEl.classList.add('colab-df-spinner');\n",
              "      try {\n",
              "        const charts = await google.colab.kernel.invokeFunction(\n",
              "            'suggestCharts', [key], {});\n",
              "      } catch (error) {\n",
              "        console.error('Error during call to suggestCharts:', error);\n",
              "      }\n",
              "      quickchartButtonEl.classList.remove('colab-df-spinner');\n",
              "      quickchartButtonEl.classList.add('colab-df-quickchart-complete');\n",
              "    }\n",
              "    (() => {\n",
              "      let quickchartButtonEl =\n",
              "        document.querySelector('#df-8cdecc99-76f9-49fc-8c1c-d42e70b4d922 button');\n",
              "      quickchartButtonEl.style.display =\n",
              "        google.colab.kernel.accessAllowed ? 'block' : 'none';\n",
              "    })();\n",
              "  </script>\n",
              "</div>\n",
              "\n",
              "    </div>\n",
              "  </div>\n"
            ],
            "application/vnd.google.colaboratory.intrinsic+json": {
              "type": "dataframe",
              "summary": "{\n  \"name\": \"df\",\n  \"rows\": 3,\n  \"fields\": [\n    {\n      \"column\": \"count\",\n      \"properties\": {\n        \"dtype\": \"number\",\n        \"std\": 0.0,\n        \"min\": 25.0,\n        \"max\": 25.0,\n        \"num_unique_values\": 1,\n        \"samples\": [\n          25.0\n        ],\n        \"semantic_type\": \"\",\n        \"description\": \"\"\n      }\n    },\n    {\n      \"column\": \"mean\",\n      \"properties\": {\n        \"dtype\": \"number\",\n        \"std\": 60.16883184285143,\n        \"min\": 10.156,\n        \"max\": 128.296,\n        \"num_unique_values\": 3,\n        \"samples\": [\n          10.156\n        ],\n        \"semantic_type\": \"\",\n        \"description\": \"\"\n      }\n    },\n    {\n      \"column\": \"std\",\n      \"properties\": {\n        \"dtype\": \"number\",\n        \"std\": 7.66683110779545,\n        \"min\": 1.0805399884625586,\n        \"max\": 16.36885966299017,\n        \"num_unique_values\": 3,\n        \"samples\": [\n          1.0805399884625586\n        ],\n        \"semantic_type\": \"\",\n        \"description\": \"\"\n      }\n    },\n    {\n      \"column\": \"min\",\n      \"properties\": {\n        \"dtype\": \"number\",\n        \"std\": 41.03132949344927,\n        \"min\": 8.4,\n        \"max\": 88.5,\n        \"num_unique_values\": 3,\n        \"samples\": [\n          8.4\n        ],\n        \"semantic_type\": \"\",\n        \"description\": \"\"\n      }\n    },\n    {\n      \"column\": \"25%\",\n      \"properties\": {\n        \"dtype\": \"number\",\n        \"std\": 57.497565165839845,\n        \"min\": 9.4,\n        \"max\": 121.3,\n        \"num_unique_values\": 3,\n        \"samples\": [\n          9.4\n        ],\n        \"semantic_type\": \"\",\n        \"description\": \"\"\n      }\n    },\n    {\n      \"column\": \"50%\",\n      \"properties\": {\n        \"dtype\": \"number\",\n        \"std\": 60.41335393216747,\n        \"min\": 10.1,\n        \"max\": 128.3,\n        \"num_unique_values\": 3,\n        \"samples\": [\n          10.1\n        ],\n        \"semantic_type\": \"\",\n        \"description\": \"\"\n      }\n    },\n    {\n      \"column\": \"75%\",\n      \"properties\": {\n        \"dtype\": \"number\",\n        \"std\": 63.800417971462636,\n        \"min\": 11.2,\n        \"max\": 137.0,\n        \"num_unique_values\": 3,\n        \"samples\": [\n          11.2\n        ],\n        \"semantic_type\": \"\",\n        \"description\": \"\"\n      }\n    },\n    {\n      \"column\": \"max\",\n      \"properties\": {\n        \"dtype\": \"number\",\n        \"std\": 74.38933615333137,\n        \"min\": 11.9,\n        \"max\": 159.3,\n        \"num_unique_values\": 3,\n        \"samples\": [\n          11.9\n        ],\n        \"semantic_type\": \"\",\n        \"description\": \"\"\n      }\n    }\n  ]\n}"
            }
          },
          "metadata": {},
          "execution_count": 4
        }
      ],
      "source": [
        "# Summarize the features in the data set using descriptive statistics\n",
        "df.describe().transpose()"
      ]
    },
    {
      "cell_type": "code",
      "execution_count": 5,
      "metadata": {
        "colab": {
          "base_uri": "https://localhost:8080/",
          "height": 298
        },
        "id": "eXk4RYQXrA6w",
        "outputId": "0f72211d-86ec-49a0-b8fd-d479aa6c311c"
      },
      "outputs": [
        {
          "output_type": "display_data",
          "data": {
            "text/plain": [
              "<Figure size 1200x400 with 3 Axes>"
            ],
            "image/png": "[encoded data removed]"
          },
          "metadata": {}
        }
      ],
      "source": [
        "# Create histograms for the variables 'ADVT', 'INCOME' and 'SALES'\n",
        "plt.figure(figsize = (12, 4))\n",
        "plt.subplot(1, 3, 1)\n",
        "sns.histplot(data = df, x = 'ADVT', color = 'lightblue')\n",
        "plt.subplot(1, 3, 2)\n",
        "sns.histplot(data = df, x = 'INCOME', color = 'lightgreen')\n",
        "plt.subplot(1, 3, 3)\n",
        "sns.histplot(data = df, x = 'SALES', color = 'lightgray')\n",
        "\n",
        "plt.tight_layout();"
      ]
    },
    {
      "cell_type": "markdown",
      "metadata": {
        "id": "9B2nBrSgFhJY"
      },
      "source": [
        "The distribution of *SALES* (the dependent variable) looks somewhat normal."
      ]
    },
    {
      "cell_type": "code",
      "execution_count": 6,
      "metadata": {
        "colab": {
          "base_uri": "https://localhost:8080/",
          "height": 299
        },
        "id": "4ICe03YiFhJZ",
        "outputId": "d7f6d4a8-9325-4972-a80f-ab46d3802f04"
      },
      "outputs": [
        {
          "output_type": "display_data",
          "data": {
            "text/plain": [
              "<Figure size 1200x400 with 3 Axes>"
            ],
            "image/png": "[encoded data removed]"
          },
          "metadata": {}
        }
      ],
      "source": [
        "# Create box plots for the variables 'ADVT', 'INCOME' and 'SALES'\n",
        "plt.figure(figsize = (12, 4))\n",
        "plt.subplot(1, 3, 1)\n",
        "sns.boxplot(data = df, x = 'ADVT', color = 'lightblue')\n",
        "plt.subplot(1, 3, 2)\n",
        "sns.boxplot(data = df, x = 'INCOME', color = 'lightgreen')\n",
        "plt.subplot(1, 3, 3)\n",
        "sns.boxplot(data = df, x = 'SALES', color = 'lightgray')\n",
        "\n",
        "plt.tight_layout();"
      ]
    },
    {
      "cell_type": "markdown",
      "metadata": {
        "id": "6x5brhiQFhJZ"
      },
      "source": [
        "The box plot of *SALES* also shows that the values are somewhat symmetrically distributed about the median value, whereas there is some skew in the box plots of *ADVT* and *INCOME*."
      ]
    },
    {
      "cell_type": "code",
      "execution_count": 7,
      "metadata": {
        "colab": {
          "base_uri": "https://localhost:8080/",
          "height": 298
        },
        "id": "end4BFwrFhJZ",
        "outputId": "90656b25-332f-4a72-c811-2208b95671dd"
      },
      "outputs": [
        {
          "output_type": "display_data",
          "data": {
            "text/plain": [
              "<Figure size 1200x400 with 3 Axes>"
            ],
            "image/png": "[encoded data removed]"
          },
          "metadata": {}
        }
      ],
      "source": [
        "# Create scatter plots for 'ADVT' versus 'SALES', 'INCOME' versus 'SALES' and 'INCOME' versus 'ADVT'\n",
        "plt.figure(figsize = (12, 4))\n",
        "plt.subplot(1, 3, 1)\n",
        "sns.scatterplot(data = df, x = 'ADVT', y = 'SALES')\n",
        "plt.subplot(1, 3, 2)\n",
        "sns.scatterplot(data = df, x = 'INCOME', y = 'SALES')\n",
        "plt.subplot(1, 3, 3)\n",
        "sns.scatterplot(data = df, x = 'INCOME', y = 'ADVT')\n",
        "\n",
        "plt.tight_layout();"
      ]
    },
    {
      "cell_type": "markdown",
      "metadata": {
        "id": "cNmdWu6ZFhJZ"
      },
      "source": [
        "There appears to be greater advertising in districts with greater income."
      ]
    },
    {
      "cell_type": "code",
      "execution_count": 8,
      "metadata": {
        "colab": {
          "base_uri": "https://localhost:8080/",
          "height": 393
        },
        "id": "oNggQ8HztfFg",
        "outputId": "516bc80f-28bd-4d82-b198-c734529b2cdb"
      },
      "outputs": [
        {
          "output_type": "display_data",
          "data": {
            "text/plain": [
              "<Figure size 800x400 with 1 Axes>"
            ],
            "image/png": "[encoded data removed]"
          },
          "metadata": {}
        }
      ],
      "source": [
        "# Create a scatter plot of 'ADVT' versus 'SALES'\n",
        "plt.figure(figsize = (8, 4))\n",
        "sns.scatterplot(data = df, x = 'ADVT', y = 'SALES')\n",
        "plt.xlim((7, 14))\n",
        "plt.ylim((60, 180));"
      ]
    },
    {
      "cell_type": "markdown",
      "metadata": {
        "id": "ChvZvN6sFhJa"
      },
      "source": [
        "The scatter plot between *ADVT* and *SALES* shows a generally positive correlation between the two variables."
      ]
    },
    {
      "cell_type": "code",
      "execution_count": 9,
      "metadata": {
        "colab": {
          "base_uri": "https://localhost:8080/",
          "height": 393
        },
        "id": "uAahmiKcu7zP",
        "outputId": "e89e533c-dfc7-4c3b-df46-a37c8f6d155b"
      },
      "outputs": [
        {
          "output_type": "display_data",
          "data": {
            "text/plain": [
              "<Figure size 800x400 with 1 Axes>"
            ],
            "image/png": "[encoded data removed]"
          },
          "metadata": {}
        }
      ],
      "source": [
        "# Create a scatter plot of 'ADVT' versus 'SALES' and show the regression line\n",
        "plt.figure(figsize = (8, 4))\n",
        "sns.regplot(data = df, x = 'ADVT', y = 'SALES', line_kws = {'color': 'red'})\n",
        "plt.xlim((7, 14))\n",
        "plt.ylim((60, 180));"
      ]
    },
    {
      "cell_type": "markdown",
      "metadata": {
        "id": "TwHl5508FhJa"
      },
      "source": [
        "Note the simple linear regression line that has been fit to the data points."
      ]
    },
    {
      "cell_type": "code",
      "execution_count": 10,
      "metadata": {
        "colab": {
          "base_uri": "https://localhost:8080/",
          "height": 757
        },
        "id": "U8UZ_eaPTK7J",
        "outputId": "d01286b1-e266-4d6d-f167-ca51b5625efc"
      },
      "outputs": [
        {
          "output_type": "display_data",
          "data": {
            "text/plain": [
              "<Figure size 750x750 with 12 Axes>"
            ],
            "image/png": "[encoded data removed]"
          },
          "metadata": {}
        }
      ],
      "source": [
        "# Create a pair plot for the data\n",
        "sns.pairplot(df);"
      ]
    },
    {
      "cell_type": "markdown",
      "metadata": {
        "id": "qurHeizLFhJa"
      },
      "source": [
        "Pair plots are useful in viewing a summary of all the numerical variables in a data set at a glance."
      ]
    },
    {
      "cell_type": "code",
      "execution_count": 11,
      "metadata": {
        "colab": {
          "base_uri": "https://localhost:8080/",
          "height": 143
        },
        "id": "98PzxSRuFhJa",
        "outputId": "d218521e-53ab-4966-c42d-6f045e2adb49"
      },
      "outputs": [
        {
          "output_type": "execute_result",
          "data": {
            "text/plain": [
              "        ADVT  INCOME  SALES\n",
              "ADVT    1.00    0.34   0.50\n",
              "INCOME  0.34    1.00   0.59\n",
              "SALES   0.50    0.59   1.00"
            ],
            "text/html": [
              "\n",
              "  <div id=\"df-112bfc0b-421b-4a1e-ab27-72bfd11151ed\" class=\"colab-df-container\">\n",
              "    <div>\n",
              "<style scoped>\n",
              "    .dataframe tbody tr th:only-of-type {\n",
              "        vertical-align: middle;\n",
              "    }\n",
              "\n",
              "    .dataframe tbody tr th {\n",
              "        vertical-align: top;\n",
              "    }\n",
              "\n",
              "    .dataframe thead th {\n",
              "        text-align: right;\n",
              "    }\n",
              "</style>\n",
              "<table border=\"1\" class=\"dataframe\">\n",
              "  <thead>\n",
              "    <tr style=\"text-align: right;\">\n",
              "      <th></th>\n",
              "      <th>ADVT</th>\n",
              "      <th>INCOME</th>\n",
              "      <th>SALES</th>\n",
              "    </tr>\n",
              "  </thead>\n",
              "  <tbody>\n",
              "    <tr>\n",
              "      <th>ADVT</th>\n",
              "      <td>1.00</td>\n",
              "      <td>0.34</td>\n",
              "      <td>0.50</td>\n",
              "    </tr>\n",
              "    <tr>\n",
              "      <th>INCOME</th>\n",
              "      <td>0.34</td>\n",
              "      <td>1.00</td>\n",
              "      <td>0.59</td>\n",
              "    </tr>\n",
              "    <tr>\n",
              "      <th>SALES</th>\n",
              "      <td>0.50</td>\n",
              "      <td>0.59</td>\n",
              "      <td>1.00</td>\n",
              "    </tr>\n",
              "  </tbody>\n",
              "</table>\n",
              "</div>\n",
              "    <div class=\"colab-df-buttons\">\n",
              "\n",
              "  <div class=\"colab-df-container\">\n",
              "    <button class=\"colab-df-convert\" onclick=\"convertToInteractive('df-112bfc0b-421b-4a1e-ab27-72bfd11151ed')\"\n",
              "            title=\"Convert this dataframe to an interactive table.\"\n",
              "            style=\"display:none;\">\n",
              "\n",
              "  <svg xmlns=\"http://www.w3.org/2000/svg\" height=\"24px\" viewBox=\"0 -960 960 960\">\n",
              "    <path d=\"M120-120v-720h720v720H120Zm60-500h600v-160H180v160Zm220 220h160v-160H400v160Zm0 220h160v-160H400v160ZM180-400h160v-160H180v160Zm440 0h160v-160H620v160ZM180-180h160v-160H180v160Zm440 0h160v-160H620v160Z\"/>\n",
              "  </svg>\n",
              "    </button>\n",
              "\n",
              "  <style>\n",
              "    .colab-df-container {\n",
              "      display:flex;\n",
              "      gap: 12px;\n",
              "    }\n",
              "\n",
              "    .colab-df-convert {\n",
              "      background-color: #E8F0FE;\n",
              "      border: none;\n",
              "      border-radius: 50%;\n",
              "      cursor: pointer;\n",
              "      display: none;\n",
              "      fill: #1967D2;\n",
              "      height: 32px;\n",
              "      padding: 0 0 0 0;\n",
              "      width: 32px;\n",
              "    }\n",
              "\n",
              "    .colab-df-convert:hover {\n",
              "      background-color: #E2EBFA;\n",
              "      box-shadow: 0px 1px 2px rgba(60, 64, 67, 0.3), 0px 1px 3px 1px rgba(60, 64, 67, 0.15);\n",
              "      fill: #174EA6;\n",
              "    }\n",
              "\n",
              "    .colab-df-buttons div {\n",
              "      margin-bottom: 4px;\n",
              "    }\n",
              "\n",
              "    [theme=dark] .colab-df-convert {\n",
              "      background-color: #3B4455;\n",
              "      fill: #D2E3FC;\n",
              "    }\n",
              "\n",
              "    [theme=dark] .colab-df-convert:hover {\n",
              "      background-color: #434B5C;\n",
              "      box-shadow: 0px 1px 3px 1px rgba(0, 0, 0, 0.15);\n",
              "      filter: drop-shadow(0px 1px 2px rgba(0, 0, 0, 0.3));\n",
              "      fill: #FFFFFF;\n",
              "    }\n",
              "  </style>\n",
              "\n",
              "    <script>\n",
              "      const buttonEl =\n",
              "        document.querySelector('#df-112bfc0b-421b-4a1e-ab27-72bfd11151ed button.colab-df-convert');\n",
              "      buttonEl.style.display =\n",
              "        google.colab.kernel.accessAllowed ? 'block' : 'none';\n",
              "\n",
              "      async function convertToInteractive(key) {\n",
              "        const element = document.querySelector('#df-112bfc0b-421b-4a1e-ab27-72bfd11151ed');\n",
              "        const dataTable =\n",
              "          await google.colab.kernel.invokeFunction('convertToInteractive',\n",
              "                                                    [key], {});\n",
              "        if (!dataTable) return;\n",
              "\n",
              "        const docLinkHtml = 'Like what you see? Visit the ' +\n",
              "          '<a target=\"_blank\" href=https://colab.research.google.com/notebooks/data_table.ipynb>data table notebook</a>'\n",
              "          + ' to learn more about interactive tables.';\n",
              "        element.innerHTML = '';\n",
              "        dataTable['output_type'] = 'display_data';\n",
              "        await google.colab.output.renderOutput(dataTable, element);\n",
              "        const docLink = document.createElement('div');\n",
              "        docLink.innerHTML = docLinkHtml;\n",
              "        element.appendChild(docLink);\n",
              "      }\n",
              "    </script>\n",
              "  </div>\n",
              "\n",
              "\n",
              "<div id=\"df-00206c05-b40f-462e-b0fb-bb3530219048\">\n",
              "  <button class=\"colab-df-quickchart\" onclick=\"quickchart('df-00206c05-b40f-462e-b0fb-bb3530219048')\"\n",
              "            title=\"Suggest charts\"\n",
              "            style=\"display:none;\">\n",
              "\n",
              "<svg xmlns=\"http://www.w3.org/2000/svg\" height=\"24px\"viewBox=\"0 0 24 24\"\n",
              "     width=\"24px\">\n",
              "    <g>\n",
              "        <path d=\"M19 3H5c-1.1 0-2 .9-2 2v14c0 1.1.9 2 2 2h14c1.1 0 2-.9 2-2V5c0-1.1-.9-2-2-2zM9 17H7v-7h2v7zm4 0h-2V7h2v10zm4 0h-2v-4h2v4z\"/>\n",
              "    </g>\n",
              "</svg>\n",
              "  </button>\n",
              "\n",
              "<style>\n",
              "  .colab-df-quickchart {\n",
              "      --bg-color: #E8F0FE;\n",
              "      --fill-color: #1967D2;\n",
              "      --hover-bg-color: #E2EBFA;\n",
              "      --hover-fill-color: #174EA6;\n",
              "      --disabled-fill-color: #AAA;\n",
              "      --disabled-bg-color: #DDD;\n",
              "  }\n",
              "\n",
              "  [theme=dark] .colab-df-quickchart {\n",
              "      --bg-color: #3B4455;\n",
              "      --fill-color: #D2E3FC;\n",
              "      --hover-bg-color: #434B5C;\n",
              "      --hover-fill-color: #FFFFFF;\n",
              "      --disabled-bg-color: #3B4455;\n",
              "      --disabled-fill-color: #666;\n",
              "  }\n",
              "\n",
              "  .colab-df-quickchart {\n",
              "    background-color: var(--bg-color);\n",
              "    border: none;\n",
              "    border-radius: 50%;\n",
              "    cursor: pointer;\n",
              "    display: none;\n",
              "    fill: var(--fill-color);\n",
              "    height: 32px;\n",
              "    padding: 0;\n",
              "    width: 32px;\n",
              "  }\n",
              "\n",
              "  .colab-df-quickchart:hover {\n",
              "    background-color: var(--hover-bg-color);\n",
              "    box-shadow: 0 1px 2px rgba(60, 64, 67, 0.3), 0 1px 3px 1px rgba(60, 64, 67, 0.15);\n",
              "    fill: var(--button-hover-fill-color);\n",
              "  }\n",
              "\n",
              "  .colab-df-quickchart-complete:disabled,\n",
              "  .colab-df-quickchart-complete:disabled:hover {\n",
              "    background-color: var(--disabled-bg-color);\n",
              "    fill: var(--disabled-fill-color);\n",
              "    box-shadow: none;\n",
              "  }\n",
              "\n",
              "  .colab-df-spinner {\n",
              "    border: 2px solid var(--fill-color);\n",
              "    border-color: transparent;\n",
              "    border-bottom-color: var(--fill-color);\n",
              "    animation:\n",
              "      spin 1s steps(1) infinite;\n",
              "  }\n",
              "\n",
              "  @keyframes spin {\n",
              "    0% {\n",
              "      border-color: transparent;\n",
              "      border-bottom-color: var(--fill-color);\n",
              "      border-left-color: var(--fill-color);\n",
              "    }\n",
              "    20% {\n",
              "      border-color: transparent;\n",
              "      border-left-color: var(--fill-color);\n",
              "      border-top-color: var(--fill-color);\n",
              "    }\n",
              "    30% {\n",
              "      border-color: transparent;\n",
              "      border-left-color: var(--fill-color);\n",
              "      border-top-color: var(--fill-color);\n",
              "      border-right-color: var(--fill-color);\n",
              "    }\n",
              "    40% {\n",
              "      border-color: transparent;\n",
              "      border-right-color: var(--fill-color);\n",
              "      border-top-color: var(--fill-color);\n",
              "    }\n",
              "    60% {\n",
              "      border-color: transparent;\n",
              "      border-right-color: var(--fill-color);\n",
              "    }\n",
              "    80% {\n",
              "      border-color: transparent;\n",
              "      border-right-color: var(--fill-color);\n",
              "      border-bottom-color: var(--fill-color);\n",
              "    }\n",
              "    90% {\n",
              "      border-color: transparent;\n",
              "      border-bottom-color: var(--fill-color);\n",
              "    }\n",
              "  }\n",
              "</style>\n",
              "\n",
              "  <script>\n",
              "    async function quickchart(key) {\n",
              "      const quickchartButtonEl =\n",
              "        document.querySelector('#' + key + ' button');\n",
              "      quickchartButtonEl.disabled = true;  // To prevent multiple clicks.\n",
              "      quickchartButtonEl.classList.add('colab-df-spinner');\n",
              "      try {\n",
              "        const charts = await google.colab.kernel.invokeFunction(\n",
              "            'suggestCharts', [key], {});\n",
              "      } catch (error) {\n",
              "        console.error('Error during call to suggestCharts:', error);\n",
              "      }\n",
              "      quickchartButtonEl.classList.remove('colab-df-spinner');\n",
              "      quickchartButtonEl.classList.add('colab-df-quickchart-complete');\n",
              "    }\n",
              "    (() => {\n",
              "      let quickchartButtonEl =\n",
              "        document.querySelector('#df-00206c05-b40f-462e-b0fb-bb3530219048 button');\n",
              "      quickchartButtonEl.style.display =\n",
              "        google.colab.kernel.accessAllowed ? 'block' : 'none';\n",
              "    })();\n",
              "  </script>\n",
              "</div>\n",
              "\n",
              "    </div>\n",
              "  </div>\n"
            ],
            "application/vnd.google.colaboratory.intrinsic+json": {
              "type": "dataframe",
              "summary": "{\n  \"name\": \"np\",\n  \"rows\": 3,\n  \"fields\": [\n    {\n      \"column\": \"ADVT\",\n      \"properties\": {\n        \"dtype\": \"number\",\n        \"std\": 0.34428670223134283,\n        \"min\": 0.34,\n        \"max\": 1.0,\n        \"num_unique_values\": 3,\n        \"samples\": [\n          1.0,\n          0.34,\n          0.5\n        ],\n        \"semantic_type\": \"\",\n        \"description\": \"\"\n      }\n    },\n    {\n      \"column\": \"INCOME\",\n      \"properties\": {\n        \"dtype\": \"number\",\n        \"std\": 0.333216646242851,\n        \"min\": 0.34,\n        \"max\": 1.0,\n        \"num_unique_values\": 3,\n        \"samples\": [\n          0.34,\n          1.0,\n          0.59\n        ],\n        \"semantic_type\": \"\",\n        \"description\": \"\"\n      }\n    },\n    {\n      \"column\": \"SALES\",\n      \"properties\": {\n        \"dtype\": \"number\",\n        \"std\": 0.26652079343520896,\n        \"min\": 0.5,\n        \"max\": 1.0,\n        \"num_unique_values\": 3,\n        \"samples\": [\n          0.5,\n          0.59,\n          1.0\n        ],\n        \"semantic_type\": \"\",\n        \"description\": \"\"\n      }\n    }\n  ]\n}"
            }
          },
          "metadata": {},
          "execution_count": 11
        }
      ],
      "source": [
        "# Compute the correlation matrix for the data set\n",
        "np.round(df.corr(), 2)"
      ]
    },
    {
      "cell_type": "code",
      "execution_count": 12,
      "metadata": {
        "colab": {
          "base_uri": "https://localhost:8080/",
          "height": 374
        },
        "id": "QoWmsNSyFhJa",
        "outputId": "280d0bda-099e-4130-96a7-88dc40d7399b"
      },
      "outputs": [
        {
          "output_type": "display_data",
          "data": {
            "text/plain": [
              "<Figure size 800x400 with 2 Axes>"
            ],
            "image/png": "[encoded data removed]"
          },
          "metadata": {}
        }
      ],
      "source": [
        "# Create a heatmap of the data set to study the correlation between the features\n",
        "fig, ax = plt.subplots(figsize = (8, 4))\n",
        "sns.heatmap(df.corr(), annot = True, cmap = 'Blues');"
      ]
    },
    {
      "cell_type": "markdown",
      "metadata": {
        "id": "VJpJ9-HvFhJa"
      },
      "source": [
        "The correlation matrix shows that all the features in data set are positively correlated with each other."
      ]
    },
    {
      "cell_type": "markdown",
      "metadata": {
        "id": "wqIpRZPSRSNE"
      },
      "source": [
        "# Part 2 - Simple Linear Regression\n",
        "In this section, we will:\n",
        "- Import necessary packages for executing the code\n",
        "- Train and evaluate simple linear regression models for the data"
      ]
    },
    {
      "cell_type": "code",
      "execution_count": 13,
      "metadata": {
        "id": "L8gpdHCxFhJb"
      },
      "outputs": [],
      "source": [
        "# Import method for regression from 'statsmodels'\n",
        "import statsmodels.formula.api as smf"
      ]
    },
    {
      "cell_type": "markdown",
      "metadata": {
        "id": "tUxe96M9FhJb"
      },
      "source": [
        "## Model 1"
      ]
    },
    {
      "cell_type": "code",
      "execution_count": 14,
      "metadata": {
        "id": "2MOfUYckLom0",
        "colab": {
          "base_uri": "https://localhost:8080/"
        },
        "outputId": "464bd1d8-9fd5-4563-ed82-105bc05e50e1"
      },
      "outputs": [
        {
          "output_type": "stream",
          "name": "stdout",
          "text": [
            "                            OLS Regression Results                            \n",
            "==============================================================================\n",
            "Dep. Variable:                  SALES   R-squared:                       0.247\n",
            "Model:                            OLS   Adj. R-squared:                  0.214\n",
            "Method:                 Least Squares   F-statistic:                     7.540\n",
            "Date:                Fri, 14 Jun 2024   Prob (F-statistic):             0.0115\n",
            "Time:                        08:14:12   Log-Likelihood:                -101.30\n",
            "No. Observations:                  25   AIC:                             206.6\n",
            "Df Residuals:                      23   BIC:                             209.0\n",
            "Df Model:                           1                                         \n",
            "Covariance Type:            nonrobust                                         \n",
            "==============================================================================\n",
            "                 coef    std err          t      P>|t|      [0.025      0.975]\n",
            "------------------------------------------------------------------------------\n",
            "Intercept     51.8492     27.990      1.852      0.077      -6.053     109.752\n",
            "ADVT           7.5273      2.741      2.746      0.012       1.857      13.198\n",
            "==============================================================================\n",
            "Omnibus:                        1.254   Durbin-Watson:                   1.834\n",
            "Prob(Omnibus):                  0.534   Jarque-Bera (JB):                1.172\n",
            "Skew:                          -0.446   Prob(JB):                        0.556\n",
            "Kurtosis:                       2.425   Cond. No.                         99.4\n",
            "==============================================================================\n",
            "\n",
            "Notes:\n",
            "[1] Standard Errors assume that the covariance matrix of the errors is correctly specified.\n"
          ]
        }
      ],
      "source": [
        "# Create and train a linear regression model for the data and view its summary\n",
        "# Note: The objective is to predict 'SALES' using 'ADVT'\n",
        "lr_model_1 = smf.ols('SALES~ADVT',data=df)\n",
        "lr_model_1 = lr_model_1.fit()\n",
        "print(lr_model_1.summary())"
      ]
    },
    {
      "cell_type": "markdown",
      "metadata": {
        "id": "NkcpCqcjFhJb"
      },
      "source": [
        "The summary shows relevant metrics and values related to the regression model such as the coefficients, the standard error, goodness of fit measures, measures of significance, and so on.\n",
        "\n",
        "According to this model:\n",
        "- A unit increase in *ADVT* leads to an increase of about 7.5 units in *SALES* on average\n",
        "- The p-value for *ADVT* here is less than 0.05, so *ADVT* is statistically significant in explaining the variation in *SALES*\n",
        "- About 25% of the variation in *SALES* is explained by *ADVT*"
      ]
    },
    {
      "cell_type": "code",
      "execution_count": 15,
      "metadata": {
        "colab": {
          "base_uri": "https://localhost:8080/"
        },
        "id": "eRRTo4KxQE0q",
        "outputId": "7d5ad29e-1869-43b4-c1b7-69f982f57d3d"
      },
      "outputs": [
        {
          "output_type": "stream",
          "name": "stdout",
          "text": [
            "14.51\n"
          ]
        }
      ],
      "source": [
        "# Compute the residual standard error\n",
        "rse_1 = np.sqrt(np.sum(lr_model_1.resid**2)/lr_model_1.df_resid)\n",
        "print(np.round(rse_1, 2))"
      ]
    },
    {
      "cell_type": "markdown",
      "metadata": {
        "id": "cNOPQdvCFhJb"
      },
      "source": [
        "The smaller the residual standard error is, the more tightly clustered the data points are about the regression line. It is also useful in detecting outliers in the data set."
      ]
    },
    {
      "cell_type": "markdown",
      "metadata": {
        "id": "lCTI3tArFhJb"
      },
      "source": [
        "## Model 2"
      ]
    },
    {
      "cell_type": "code",
      "execution_count": 16,
      "metadata": {
        "colab": {
          "base_uri": "https://localhost:8080/"
        },
        "id": "yGVrEQCUFhJb",
        "outputId": "ef32c2ef-5707-4c1b-e467-5b27f74a1387"
      },
      "outputs": [
        {
          "output_type": "stream",
          "name": "stdout",
          "text": [
            "                            OLS Regression Results                            \n",
            "==============================================================================\n",
            "Dep. Variable:                  SALES   R-squared:                       0.353\n",
            "Model:                            OLS   Adj. R-squared:                  0.325\n",
            "Method:                 Least Squares   F-statistic:                     12.54\n",
            "Date:                Fri, 14 Jun 2024   Prob (F-statistic):            0.00175\n",
            "Time:                        08:14:12   Log-Likelihood:                -99.409\n",
            "No. Observations:                  25   AIC:                             202.8\n",
            "Df Residuals:                      23   BIC:                             205.3\n",
            "Df Model:                           1                                         \n",
            "Covariance Type:            nonrobust                                         \n",
            "==============================================================================\n",
            "                 coef    std err          t      P>|t|      [0.025      0.975]\n",
            "------------------------------------------------------------------------------\n",
            "Intercept     79.0115     14.177      5.573      0.000      49.684     108.339\n",
            "INCOME         0.9977      0.282      3.541      0.002       0.415       1.581\n",
            "==============================================================================\n",
            "Omnibus:                        0.803   Durbin-Watson:                   2.313\n",
            "Prob(Omnibus):                  0.669   Jarque-Bera (JB):                0.716\n",
            "Skew:                           0.028   Prob(JB):                        0.699\n",
            "Kurtosis:                       2.173   Cond. No.                         265.\n",
            "==============================================================================\n",
            "\n",
            "Notes:\n",
            "[1] Standard Errors assume that the covariance matrix of the errors is correctly specified.\n"
          ]
        }
      ],
      "source": [
        "# Create and train a linear regression model for the data and view its summary\n",
        "# Note: The objective is to predict 'SALES' using 'INCOME'\n",
        "lr_model_2 = smf.ols('SALES~INCOME',data=df)\n",
        "lr_model_2 = lr_model_2.fit()\n",
        "print(lr_model_2.summary())"
      ]
    },
    {
      "cell_type": "markdown",
      "metadata": {
        "id": "HyPqQoSzFhJc"
      },
      "source": [
        "According to this model:\n",
        "- A unit increase in *INCOME* leads to an increase of about 1 unit in *SALES* on average\n",
        "- The p-value for *INCOME* here is less than 0.05, so *INCOME* is statistically significant in explaining the variation in *SALES*\n",
        "- About 35% of the variation in *SALES* is explained by *INCOME*"
      ]
    },
    {
      "cell_type": "code",
      "execution_count": 17,
      "metadata": {
        "colab": {
          "base_uri": "https://localhost:8080/"
        },
        "id": "MPH8QMB2FhJc",
        "outputId": "4bdef958-c54f-4380-f918-5ecad6e12f80"
      },
      "outputs": [
        {
          "output_type": "stream",
          "name": "stdout",
          "text": [
            "13.45\n"
          ]
        }
      ],
      "source": [
        "# Compute the residual standard error\n",
        "rse_2 =np.sqrt(np.sum(lr_model_2.resid**2)/lr_model_2.df_resid)\n",
        "print(np.round(rse_2, 2))"
      ]
    },
    {
      "cell_type": "markdown",
      "metadata": {
        "id": "pX1TbnhWGr5f"
      },
      "source": [
        "# Part 3 - Multiple Linear Regression\n",
        "In this section, we will train and evaluate a multiple linear regression model for the data."
      ]
    },
    {
      "cell_type": "markdown",
      "metadata": {
        "id": "FZ8Jc9ekFhJc"
      },
      "source": [
        "## Model 3"
      ]
    },
    {
      "cell_type": "code",
      "execution_count": 20,
      "metadata": {
        "id": "mCXVN1K6GKXO",
        "colab": {
          "base_uri": "https://localhost:8080/"
        },
        "outputId": "10c60a58-df9d-4b1a-df38-ab00e0e31a7f"
      },
      "outputs": [
        {
          "output_type": "stream",
          "name": "stdout",
          "text": [
            "                            OLS Regression Results                            \n",
            "==============================================================================\n",
            "Dep. Variable:                  SALES   R-squared:                       0.452\n",
            "Model:                            OLS   Adj. R-squared:                  0.402\n",
            "Method:                 Least Squares   F-statistic:                     9.074\n",
            "Date:                Fri, 14 Jun 2024   Prob (F-statistic):            0.00134\n",
            "Time:                        08:32:37   Log-Likelihood:                -97.329\n",
            "No. Observations:                  25   AIC:                             200.7\n",
            "Df Residuals:                      22   BIC:                             204.3\n",
            "Df Model:                           2                                         \n",
            "Covariance Type:            nonrobust                                         \n",
            "==============================================================================\n",
            "                 coef    std err          t      P>|t|      [0.025      0.975]\n",
            "------------------------------------------------------------------------------\n",
            "Intercept     36.8948     24.963      1.478      0.154     -14.875      88.665\n",
            "ADVT           5.0691      2.540      1.996      0.058      -0.198      10.336\n",
            "INCOME         0.8081      0.282      2.870      0.009       0.224       1.392\n",
            "==============================================================================\n",
            "Omnibus:                        0.360   Durbin-Watson:                   1.890\n",
            "Prob(Omnibus):                  0.835   Jarque-Bera (JB):                0.096\n",
            "Skew:                           0.149   Prob(JB):                        0.953\n",
            "Kurtosis:                       2.943   Cond. No.                         508.\n",
            "==============================================================================\n",
            "\n",
            "Notes:\n",
            "[1] Standard Errors assume that the covariance matrix of the errors is correctly specified.\n"
          ]
        }
      ],
      "source": [
        "# Create and train a linear regression model for the data and view its summary\n",
        "# Note: The objective is to predict 'SALES' using 'ADVT' and 'INCOME'\n",
        "lr_model_3 = smf.ols('SALES~ADVT+INCOME',data=df)\n",
        "lr_model_3 = lr_model_3.fit()\n",
        "print(lr_model_3.summary())\n"
      ]
    },
    {
      "cell_type": "markdown",
      "metadata": {
        "id": "2LB-DRi_FhJc"
      },
      "source": [
        "According to this model:\n",
        "- A unit increase in *ADVT* leads to an increase of about 5 units in *SALES* on average if *INCOME* is held constant\n",
        "- A unit increase in *INCOME* leads to an increase of about 0.8 units in *SALES* on average if *ADVT* is held constant\n",
        "- The p-value for *INCOME* here is less than 0.05, so *INCOME* is statistically significant in explaining the variation in *SALES*\n",
        "- The p-value for *ADVT* here is more than 0.05, so *ADVT* is not statistically significant in explaining the variation in *SALES*\n",
        "- About 45% of the variation in *SALES* is explained by *ADVT* and *INCOME*\n",
        "\n",
        "Once the variation in *INCOME* across districts is controlled for, *ADVT* does not explain much of the variation in *SALES*."
      ]
    },
    {
      "cell_type": "code",
      "execution_count": 22,
      "metadata": {
        "colab": {
          "base_uri": "https://localhost:8080/"
        },
        "id": "ovQoR5S-IfrS",
        "outputId": "1bd7b71e-8904-4f5b-9806-b6f325095f3c"
      },
      "outputs": [
        {
          "output_type": "stream",
          "name": "stdout",
          "text": [
            "12.66\n"
          ]
        }
      ],
      "source": [
        "# Compute the residual standard error\n",
        "rse_3 = np.sqrt(np.sum(lr_model_3.resid**2)/lr_model_3.df_resid)\n",
        "print(np.round(rse_3, 2))"
      ]
    },
    {
      "cell_type": "markdown",
      "metadata": {
        "id": "F4ahqSMZP6fW"
      },
      "source": [
        "# Part 4 - Diagnostic Plots\n",
        "In this section, we will:\n",
        "- Import necessary packages for executing the code\n",
        "- Create and analyze diagnostic plots for *lr_model_3*"
      ]
    },
    {
      "cell_type": "code",
      "execution_count": 23,
      "metadata": {
        "id": "IS2hdGUnFhJd"
      },
      "outputs": [],
      "source": [
        "# Import methods for regression diagnostic plots from 'statsmodels'\n",
        "from statsmodels.api import ProbPlot, qqplot"
      ]
    },
    {
      "cell_type": "markdown",
      "metadata": {
        "id": "2jxvBXV_noxx"
      },
      "source": [
        "## Fitted Values vs Actual Values"
      ]
    },
    {
      "cell_type": "code",
      "execution_count": 24,
      "metadata": {
        "colab": {
          "base_uri": "https://localhost:8080/",
          "height": 470
        },
        "id": "7IsPYaiFktps",
        "outputId": "364bc2b2-382f-4a76-c4f0-e396c90e3225"
      },
      "outputs": [
        {
          "output_type": "display_data",
          "data": {
            "text/plain": [
              "<Figure size 500x500 with 1 Axes>"
            ],
            "image/png": "[encoded data removed]"
          },
          "metadata": {}
        }
      ],
      "source": [
        "# Create a scatter plot between the fitted and actual values of 'SALES'\n",
        "plt.figure(figsize = (5, 5))\n",
        "sns.scatterplot(x = lr_model_3.fittedvalues, y = df['SALES'])\n",
        "plt.axline((100,100), slope = 1, linestyle = '--', linewidth = 1, color = 'r')\n",
        "plt.xlim((100, 170))\n",
        "plt.ylim((100, 170))\n",
        "plt.xlabel('Fitted Values of SALES')\n",
        "plt.ylabel('Actual Values of SALES');"
      ]
    },
    {
      "cell_type": "markdown",
      "metadata": {
        "id": "KmuceXLzFhJh"
      },
      "source": [
        "If the predicted values are close to the actual values, then all the points should lie close to the diagonal line."
      ]
    },
    {
      "cell_type": "markdown",
      "metadata": {
        "id": "uIBhFsq5raZt"
      },
      "source": [
        "## Fitted Values vs Residuals"
      ]
    },
    {
      "cell_type": "code",
      "execution_count": 25,
      "metadata": {
        "colab": {
          "base_uri": "https://localhost:8080/",
          "height": 388
        },
        "id": "4TJUomRgqg0h",
        "outputId": "d380e1ec-c4ac-49c4-9f11-44bdeda2c1be"
      },
      "outputs": [
        {
          "output_type": "display_data",
          "data": {
            "text/plain": [
              "<Figure size 800x400 with 1 Axes>"
            ],
            "image/png": "[encoded data removed]"
          },
          "metadata": {}
        }
      ],
      "source": [
        "# Create a scatter plot between the fitted values of 'SALES' and the residuals\n",
        "plt.figure(figsize = (8, 4))\n",
        "sns.scatterplot(x = lr_model_3.fittedvalues, y = lr_model_3.resid)\n",
        "plt.axhline(y = 0, xmin = 0, xmax = 1, linewidth = 1, color = 'k')\n",
        "plt.axhline(y = 3 * rse_3, xmin = 0, xmax = 1, linewidth = 1, color = 'r')\n",
        "plt.axhline(y = -3 * rse_3, xmin = 0, xmax = 1, linewidth = 1, color = 'r')\n",
        "plt.xlabel('Fitted Values of SALES')\n",
        "plt.ylabel('Residuals');"
      ]
    },
    {
      "cell_type": "markdown",
      "metadata": {
        "id": "-yRcH0UIFhJh"
      },
      "source": [
        "The plot should look like a patternless cloud, otherwise it indicates possible violations of the assumptions of linear regression and/or the existence of some unknown predictors that may not have not been accounted for in the model. Also note that if some residual points lie outside the 3 x SE lines on either side, then they could be declared as outliers."
      ]
    },
    {
      "cell_type": "markdown",
      "metadata": {
        "id": "_aGr185Ws6LH"
      },
      "source": [
        "## Histogram of Residuals"
      ]
    },
    {
      "cell_type": "code",
      "execution_count": 26,
      "metadata": {
        "colab": {
          "base_uri": "https://localhost:8080/",
          "height": 388
        },
        "id": "RRJ7rpQ7sf-M",
        "outputId": "b7446b06-eefd-44b0-8931-b3c290596b85"
      },
      "outputs": [
        {
          "output_type": "display_data",
          "data": {
            "text/plain": [
              "<Figure size 800x400 with 1 Axes>"
            ],
            "image/png": "[encoded data removed]"
          },
          "metadata": {}
        }
      ],
      "source": [
        "# Create a histogram of the residuals\n",
        "plt.figure(figsize = (8, 4))\n",
        "sns.histplot(data = df, x = lr_model_3.resid, color = 'lightgray')\n",
        "plt.xlabel('Residual Value')\n",
        "plt.ylabel('Frequency');"
      ]
    },
    {
      "cell_type": "markdown",
      "metadata": {
        "id": "-XZGhFkDFhJi"
      },
      "source": [
        "The distribution of residuals looks somewhat normal according to this histogram."
      ]
    },
    {
      "cell_type": "markdown",
      "metadata": {
        "id": "mKJMq96IFhJi"
      },
      "source": [
        "## QQ Plot"
      ]
    },
    {
      "cell_type": "code",
      "execution_count": 29,
      "metadata": {
        "colab": {
          "base_uri": "https://localhost:8080/",
          "height": 487
        },
        "id": "OgQWMtPZvy0L",
        "outputId": "9d19cf53-6ab9-4ac3-8ad9-d50f8c332bd6"
      },
      "outputs": [
        {
          "output_type": "display_data",
          "data": {
            "text/plain": [
              "<Figure size 500x500 with 1 Axes>"
            ],
            "image/png": "[encoded data removed]"
          },
          "metadata": {}
        }
      ],
      "source": [
        "# Create a QQ plot for the data\n",
        "QQ = ProbPlot(lr_model_3.get_influence().resid_studentized_internal)\n",
        "fig = QQ.qqplot(line = '45', alpha = 0.5, lw = 1)\n",
        "fig.set_size_inches(5, 5)\n",
        "fig.gca().set_title('Normal Q-Q')\n",
        "fig.gca().set_xlabel('Theoretical Quantiles')\n",
        "fig.gca().set_ylabel('Standardized Residuals');"
      ]
    },
    {
      "cell_type": "markdown",
      "metadata": {
        "id": "ZtPi9xDMFhJi"
      },
      "source": [
        "All the points should lie on the diagonal line. Any departure from the diagonal line indicates a departure from the assumption of normality."
      ]
    },
    {
      "cell_type": "code",
      "execution_count": null,
      "metadata": {
        "id": "OZdfI2uoFhJi"
      },
      "outputs": [],
      "source": []
    }
  ],
  "metadata": {
    "colab": {
      "provenance": [],
      "include_colab_link": true
    },
    "kernelspec": {
      "display_name": "Python 3 (ipykernel)",
      "language": "python",
      "name": "python3"
    },
    "language_info": {
      "codemirror_mode": {
        "name": "ipython",
        "version": 3
      },
      "file_extension": ".py",
      "mimetype": "text/x-python",
      "name": "python",
      "nbconvert_exporter": "python",
      "pygments_lexer": "ipython3",
      "version": "3.9.12"
    }
  },
  "nbformat": 4,
  "nbformat_minor": 0
}